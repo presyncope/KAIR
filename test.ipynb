{
 "cells": [
  {
   "cell_type": "code",
   "execution_count": 4,
   "id": "5d6e6eb3",
   "metadata": {},
   "outputs": [
    {
     "name": "stdout",
     "output_type": "stream",
     "text": [
      "export CUDA_VISIBLE_DEVICES=0\n",
      "number of GPUs is: 1\n",
      "Cache 000 for VideoTestDataset...\n",
      "Cache 011 for VideoTestDataset...\n",
      "Cache 015 for VideoTestDataset...\n",
      "Cache 020 for VideoTestDataset...\n"
     ]
    }
   ],
   "source": [
    "from utils import utils_option as option\n",
    "from typing import cast\n",
    "from data.dataset_video_test import RebotTestDatasetREDS\n",
    "import torch\n",
    "from PIL import Image\n",
    "\n",
    "def save_tensor_as_png(tensor: torch.Tensor, filename: str):\n",
    "    # (3, h, w) -> (h, w, 3), 0~1 -> 0~255, torch.float32 -> uint8\n",
    "    img = (tensor.clamp(0, 1) * 255).byte().permute(1, 2, 0).cpu().numpy()\n",
    "    Image.fromarray(img).save(filename, format=\"PNG\")\n",
    "\n",
    "json_path = 'options/rebotnet/001_train_rebotnet_videosr_reds.json'\n",
    "\n",
    "opt = option.parse(json_path, is_train=True)\n",
    "opt = option.dict_to_nonedict(opt)\n",
    "opt = cast(option.NoneDict, opt)\n",
    "dataset_opt = opt[\"datasets\"][\"test\"]\n",
    "\n",
    "test_set = RebotTestDatasetREDS(dataset_opt)\n",
    "\n",
    "for i in range(len(test_set)):\n",
    "    data = test_set[i]\n",
    "    save_tensor_as_png(data['L'][0], f'frame_{i:03d}.png')\n",
    "    save_tensor_as_png(data['H'][0], f'frame_{i:03d}_HR.png')\n",
    "    break"
   ]
  }
 ],
 "metadata": {
  "kernelspec": {
   "display_name": "kair_env",
   "language": "python",
   "name": "python3"
  },
  "language_info": {
   "codemirror_mode": {
    "name": "ipython",
    "version": 3
   },
   "file_extension": ".py",
   "mimetype": "text/x-python",
   "name": "python",
   "nbconvert_exporter": "python",
   "pygments_lexer": "ipython3",
   "version": "3.13.7"
  }
 },
 "nbformat": 4,
 "nbformat_minor": 5
}
